{
 "cells": [
  {
   "cell_type": "code",
   "execution_count": 1,
   "id": "d5bcae16",
   "metadata": {
    "_cell_guid": "b1076dfc-b9ad-4769-8c92-a6c4dae69d19",
    "_uuid": "8f2839f25d086af736a60e9eeb907d3b93b6e0e5",
    "execution": {
     "iopub.execute_input": "2025-02-26T07:20:19.059148Z",
     "iopub.status.busy": "2025-02-26T07:20:19.058800Z",
     "iopub.status.idle": "2025-02-26T07:20:19.063992Z",
     "shell.execute_reply": "2025-02-26T07:20:19.062602Z"
    },
    "papermill": {
     "duration": 0.013074,
     "end_time": "2025-02-26T07:20:19.065857",
     "exception": false,
     "start_time": "2025-02-26T07:20:19.052783",
     "status": "completed"
    },
    "tags": []
   },
   "outputs": [],
   "source": [
    "# # This Python 3 environment comes with many helpful analytics libraries installed\n",
    "# # It is defined by the kaggle/python Docker image: https://github.com/kaggle/docker-python\n",
    "# # For example, here's several helpful packages to load\n",
    "\n",
    "# import numpy as np # linear algebra\n",
    "# import pandas as pd # data processing, CSV file I/O (e.g. pd.read_csv)\n",
    "\n",
    "# # Input data files are available in the read-only \"../input/\" directory\n",
    "# # For example, running this (by clicking run or pressing Shift+Enter) will list all files under the input directory\n",
    "\n",
    "# import os\n",
    "# for dirname, _, filenames in os.walk('/kaggle/input'):\n",
    "#     for filename in filenames:\n",
    "#         print(os.path.join(dirname, filename))\n",
    "\n",
    "# # You can write up to 20GB to the current directory (/kaggle/working/) that gets preserved as output when you create a version using \"Save & Run All\" \n",
    "# # You can also write temporary files to /kaggle/temp/, but they won't be saved outside of the current session"
   ]
  },
  {
   "cell_type": "markdown",
   "id": "abf48a87",
   "metadata": {
    "papermill": {
     "duration": 0.003063,
     "end_time": "2025-02-26T07:20:19.073048",
     "exception": false,
     "start_time": "2025-02-26T07:20:19.069985",
     "status": "completed"
    },
    "tags": []
   },
   "source": [
    "# A Simple Starter Code for the AJL Competition\n",
    "\n",
    "@Cindy Deng\n",
    "\n",
    "---\n",
    "\n",
    "\n",
    "Hi! This starter code is designed to help you get familiar with basic Kaggle operations and guide you through the basic workflow of a machine learning project. \n",
    "\n",
    "The code outlines essential steps including data loading, preprocessing, model building, training, and generating predictions. Each section serves as a foundation, but there are many ways to enhance each step to improve your final model's accuracy. Feel free to experiment with different data augmentation techniques, model architectures, and tuning methods to optimize your final results! Some amazing tutorials are available through your AI Studio course in Canvas / in the 'Resource' section of this Kaggle competition.\n",
    "\n",
    "Good luck and have fun!\n",
    "\n",
    "---"
   ]
  },
  {
   "cell_type": "markdown",
   "id": "0527b7eb",
   "metadata": {
    "papermill": {
     "duration": 0.002964,
     "end_time": "2025-02-26T07:20:19.079194",
     "exception": false,
     "start_time": "2025-02-26T07:20:19.076230",
     "status": "completed"
    },
    "tags": []
   },
   "source": [
    "## Note - About file path\n",
    "\n",
    "You could use the cell above to print the names of the file directories and get the following directories:\n",
    "\n",
    "```\n",
    "/kaggle/input/bttai-ajl-2025/sample_submission.csv\n",
    "/kaggle/input/bttai-ajl-2025/train.csv\n",
    "/kaggle/input/bttai-ajl-2025/test.csv\n",
    "/kaggle/input/bttai-ajl-2025/test/test/e0374ae6c1362ff183cfba28ded5421b.jpg\n",
    "/kaggle/input/bttai-ajl-2025/test/test/437159c605260bdd079af230566af291.jpg\n",
    "...\n",
    "...\n",
    "/kaggle/input/bttai-ajl-2025/train/train/dermatomyositis/11271bdf2598afdd4260db3125e1f6a5.jpg\n",
    "/kaggle/input/bttai-ajl-2025/train/train/dermatomyositis/732819951dcf2b53d15ea7b8bb123b71.jpg\n",
    "/kaggle/input/bttai-ajl-2025/train/train/dermatomyositis/6dcc7a8abb5e1c6e670101f4b6231246.jpg\n",
    "/kaggle/input/bttai-ajl-2025/train/train/dermatomyositis/e63c3b3f0ab8905e204fe467cc7411f9.jpg\n",
    "...\n",
    "...\n",
    "```\n",
    "\n"
   ]
  },
  {
   "cell_type": "markdown",
   "id": "17cca7ee",
   "metadata": {
    "papermill": {
     "duration": 0.002821,
     "end_time": "2025-02-26T07:20:19.085110",
     "exception": false,
     "start_time": "2025-02-26T07:20:19.082289",
     "status": "completed"
    },
    "tags": []
   },
   "source": [
    "## 1. Import Necessary Libraries"
   ]
  },
  {
   "cell_type": "code",
   "execution_count": 2,
   "id": "29aa90ab",
   "metadata": {
    "execution": {
     "iopub.execute_input": "2025-02-26T07:20:19.092417Z",
     "iopub.status.busy": "2025-02-26T07:20:19.092113Z",
     "iopub.status.idle": "2025-02-26T07:20:33.784563Z",
     "shell.execute_reply": "2025-02-26T07:20:33.783589Z"
    },
    "papermill": {
     "duration": 14.698321,
     "end_time": "2025-02-26T07:20:33.786419",
     "exception": false,
     "start_time": "2025-02-26T07:20:19.088098",
     "status": "completed"
    },
    "tags": []
   },
   "outputs": [],
   "source": [
    "# 1. Import Necessary Libraries\n",
    "import pandas as pd\n",
    "import numpy as np\n",
    "import tensorflow as tf\n",
    "from tensorflow import keras\n",
    "from tensorflow.keras import layers\n",
    "import pandas as pd\n",
    "import os\n",
    "from sklearn.model_selection import train_test_split\n",
    "from sklearn.preprocessing import LabelEncoder\n",
    "from tensorflow.keras.preprocessing.image import ImageDataGenerator\n",
    "from tensorflow.keras.models import Sequential\n",
    "from tensorflow.keras.layers import Conv2D, MaxPooling2D, Flatten, Dense, Dropout\n",
    "from tensorflow.keras.callbacks import EarlyStopping\n",
    "from tensorflow.keras.preprocessing.image import load_img, img_to_array\n",
    "import numpy as np\n",
    "\n",
    "\n",
    "# Explanation:\n",
    "# - pandas and numpy: for data manipulation\n",
    "# - sklearn: for splitting data and encoding labels\n",
    "# - tensorflow.keras: for building and training the neural network\n"
   ]
  },
  {
   "cell_type": "markdown",
   "id": "1c011927",
   "metadata": {
    "papermill": {
     "duration": 0.002994,
     "end_time": "2025-02-26T07:20:33.793448",
     "exception": false,
     "start_time": "2025-02-26T07:20:33.790454",
     "status": "completed"
    },
    "tags": []
   },
   "source": [
    "## 2. Load Data\n",
    "\n",
    "Make sure to verify the file paths if you're running on a different platform."
   ]
  },
  {
   "cell_type": "code",
   "execution_count": 3,
   "id": "675d6f84",
   "metadata": {
    "execution": {
     "iopub.execute_input": "2025-02-26T07:20:33.801279Z",
     "iopub.status.busy": "2025-02-26T07:20:33.800736Z",
     "iopub.status.idle": "2025-02-26T07:20:33.847553Z",
     "shell.execute_reply": "2025-02-26T07:20:33.846549Z"
    },
    "papermill": {
     "duration": 0.052504,
     "end_time": "2025-02-26T07:20:33.849245",
     "exception": false,
     "start_time": "2025-02-26T07:20:33.796741",
     "status": "completed"
    },
    "tags": []
   },
   "outputs": [],
   "source": [
    "# 2. Load Data\n",
    "train_df = pd.read_csv('/kaggle/input/bttai-ajl-2025/train.csv')\n",
    "test_df = pd.read_csv('/kaggle/input/bttai-ajl-2025/test.csv')\n",
    "\n",
    "# Add .jpg extension to md5hash column to reference the file_name\n",
    "train_df['md5hash'] = train_df['md5hash'].astype(str) + '.jpg'\n",
    "test_df['md5hash'] = test_df['md5hash'].astype(str) + '.jpg'\n",
    "\n",
    "# Combine label and md5hash to form the correct path\n",
    "train_df['file_path'] = train_df['label'] + '/' + train_df['md5hash']"
   ]
  },
  {
   "cell_type": "code",
   "execution_count": 4,
   "id": "9e308069",
   "metadata": {
    "execution": {
     "iopub.execute_input": "2025-02-26T07:20:33.857437Z",
     "iopub.status.busy": "2025-02-26T07:20:33.857143Z",
     "iopub.status.idle": "2025-02-26T07:20:33.873856Z",
     "shell.execute_reply": "2025-02-26T07:20:33.872775Z"
    },
    "papermill": {
     "duration": 0.022177,
     "end_time": "2025-02-26T07:20:33.875254",
     "exception": false,
     "start_time": "2025-02-26T07:20:33.853077",
     "status": "completed"
    },
    "tags": []
   },
   "outputs": [
    {
     "data": {
      "text/html": [
       "<div>\n",
       "<style scoped>\n",
       "    .dataframe tbody tr th:only-of-type {\n",
       "        vertical-align: middle;\n",
       "    }\n",
       "\n",
       "    .dataframe tbody tr th {\n",
       "        vertical-align: top;\n",
       "    }\n",
       "\n",
       "    .dataframe thead th {\n",
       "        text-align: right;\n",
       "    }\n",
       "</style>\n",
       "<table border=\"1\" class=\"dataframe\">\n",
       "  <thead>\n",
       "    <tr style=\"text-align: right;\">\n",
       "      <th></th>\n",
       "      <th>md5hash</th>\n",
       "      <th>fitzpatrick_scale</th>\n",
       "      <th>fitzpatrick_centaur</th>\n",
       "      <th>label</th>\n",
       "      <th>nine_partition_label</th>\n",
       "      <th>three_partition_label</th>\n",
       "      <th>qc</th>\n",
       "      <th>ddi_scale</th>\n",
       "      <th>file_path</th>\n",
       "    </tr>\n",
       "  </thead>\n",
       "  <tbody>\n",
       "    <tr>\n",
       "      <th>0</th>\n",
       "      <td>fd06d13de341cc75ad679916c5d7e6a6.jpg</td>\n",
       "      <td>4</td>\n",
       "      <td>4</td>\n",
       "      <td>prurigo-nodularis</td>\n",
       "      <td>benign-epidermal</td>\n",
       "      <td>benign</td>\n",
       "      <td>NaN</td>\n",
       "      <td>34</td>\n",
       "      <td>prurigo-nodularis/fd06d13de341cc75ad679916c5d7...</td>\n",
       "    </tr>\n",
       "    <tr>\n",
       "      <th>1</th>\n",
       "      <td>a4bb4e5206c4e89a303f470576fc5253.jpg</td>\n",
       "      <td>1</td>\n",
       "      <td>1</td>\n",
       "      <td>basal-cell-carcinoma-morpheiform</td>\n",
       "      <td>malignant-epidermal</td>\n",
       "      <td>malignant</td>\n",
       "      <td>NaN</td>\n",
       "      <td>12</td>\n",
       "      <td>basal-cell-carcinoma-morpheiform/a4bb4e5206c4e...</td>\n",
       "    </tr>\n",
       "    <tr>\n",
       "      <th>2</th>\n",
       "      <td>c94ce27e389f96bda998e7c3fa5c4a2e.jpg</td>\n",
       "      <td>5</td>\n",
       "      <td>5</td>\n",
       "      <td>keloid</td>\n",
       "      <td>inflammatory</td>\n",
       "      <td>non-neoplastic</td>\n",
       "      <td>1 Diagnostic</td>\n",
       "      <td>56</td>\n",
       "      <td>keloid/c94ce27e389f96bda998e7c3fa5c4a2e.jpg</td>\n",
       "    </tr>\n",
       "    <tr>\n",
       "      <th>3</th>\n",
       "      <td>ebcf2b50dd943c700d4e2b586fcd4425.jpg</td>\n",
       "      <td>3</td>\n",
       "      <td>3</td>\n",
       "      <td>basal-cell-carcinoma</td>\n",
       "      <td>malignant-epidermal</td>\n",
       "      <td>malignant</td>\n",
       "      <td>NaN</td>\n",
       "      <td>34</td>\n",
       "      <td>basal-cell-carcinoma/ebcf2b50dd943c700d4e2b586...</td>\n",
       "    </tr>\n",
       "    <tr>\n",
       "      <th>4</th>\n",
       "      <td>c77d6c895f05fea73a8f3704307036c0.jpg</td>\n",
       "      <td>1</td>\n",
       "      <td>1</td>\n",
       "      <td>prurigo-nodularis</td>\n",
       "      <td>benign-epidermal</td>\n",
       "      <td>benign</td>\n",
       "      <td>NaN</td>\n",
       "      <td>12</td>\n",
       "      <td>prurigo-nodularis/c77d6c895f05fea73a8f37043070...</td>\n",
       "    </tr>\n",
       "  </tbody>\n",
       "</table>\n",
       "</div>"
      ],
      "text/plain": [
       "                                md5hash  fitzpatrick_scale  \\\n",
       "0  fd06d13de341cc75ad679916c5d7e6a6.jpg                  4   \n",
       "1  a4bb4e5206c4e89a303f470576fc5253.jpg                  1   \n",
       "2  c94ce27e389f96bda998e7c3fa5c4a2e.jpg                  5   \n",
       "3  ebcf2b50dd943c700d4e2b586fcd4425.jpg                  3   \n",
       "4  c77d6c895f05fea73a8f3704307036c0.jpg                  1   \n",
       "\n",
       "   fitzpatrick_centaur                             label nine_partition_label  \\\n",
       "0                    4                 prurigo-nodularis     benign-epidermal   \n",
       "1                    1  basal-cell-carcinoma-morpheiform  malignant-epidermal   \n",
       "2                    5                            keloid         inflammatory   \n",
       "3                    3              basal-cell-carcinoma  malignant-epidermal   \n",
       "4                    1                 prurigo-nodularis     benign-epidermal   \n",
       "\n",
       "  three_partition_label            qc  ddi_scale  \\\n",
       "0                benign           NaN         34   \n",
       "1             malignant           NaN         12   \n",
       "2        non-neoplastic  1 Diagnostic         56   \n",
       "3             malignant           NaN         34   \n",
       "4                benign           NaN         12   \n",
       "\n",
       "                                           file_path  \n",
       "0  prurigo-nodularis/fd06d13de341cc75ad679916c5d7...  \n",
       "1  basal-cell-carcinoma-morpheiform/a4bb4e5206c4e...  \n",
       "2        keloid/c94ce27e389f96bda998e7c3fa5c4a2e.jpg  \n",
       "3  basal-cell-carcinoma/ebcf2b50dd943c700d4e2b586...  \n",
       "4  prurigo-nodularis/c77d6c895f05fea73a8f37043070...  "
      ]
     },
     "execution_count": 4,
     "metadata": {},
     "output_type": "execute_result"
    }
   ],
   "source": [
    "# Check the first few rows to understand the structure\n",
    "train_df.head()"
   ]
  },
  {
   "cell_type": "markdown",
   "id": "35b88362",
   "metadata": {
    "papermill": {
     "duration": 0.00326,
     "end_time": "2025-02-26T07:20:33.882476",
     "exception": false,
     "start_time": "2025-02-26T07:20:33.879216",
     "status": "completed"
    },
    "tags": []
   },
   "source": [
    "## 3. Data Preprocessing\n",
    "\n",
    "\n",
    "This section demonstrates basic preprocessing techniques. To enhance data quality and model performance, consider incorporating more advanced preprocessing methods.\n",
    "\n",
    "For further guidance, feel free to take a look at the [Image Preprocessing tutorial](https://colab.research.google.com/drive/1-ItNcRMbZBE6BCwPT-wD8m3YmHqwHxme?usp=sharing)  available in the 'Resources' section of this Kaggle competition.\n"
   ]
  },
  {
   "cell_type": "code",
   "execution_count": 5,
   "id": "ce6b70c1",
   "metadata": {
    "execution": {
     "iopub.execute_input": "2025-02-26T07:20:33.891973Z",
     "iopub.status.busy": "2025-02-26T07:20:33.891667Z",
     "iopub.status.idle": "2025-02-26T07:20:33.905757Z",
     "shell.execute_reply": "2025-02-26T07:20:33.904916Z"
    },
    "papermill": {
     "duration": 0.021379,
     "end_time": "2025-02-26T07:20:33.907446",
     "exception": false,
     "start_time": "2025-02-26T07:20:33.886067",
     "status": "completed"
    },
    "tags": []
   },
   "outputs": [],
   "source": [
    "# 3. Data Preprocessing\n",
    "# Encode the labels\n",
    "label_encoder = LabelEncoder()\n",
    "train_df['encoded_label'] = label_encoder.fit_transform(train_df['label'])\n",
    "\n",
    "# Split the data into training and validation sets\n",
    "train_data, val_data = train_test_split(train_df, test_size=0.2, random_state=42)\n",
    "\n",
    "# Define image data generators for training and validation\n",
    "train_datagen = ImageDataGenerator(rescale=1./255)\n",
    "val_datagen = ImageDataGenerator(rescale=1./255)\n",
    "\n",
    "# Define the directory paths\n",
    "train_dir = '/kaggle/input/bttai-ajl-2025/train/train/'"
   ]
  },
  {
   "cell_type": "code",
   "execution_count": 6,
   "id": "73e73c87",
   "metadata": {
    "execution": {
     "iopub.execute_input": "2025-02-26T07:20:33.916472Z",
     "iopub.status.busy": "2025-02-26T07:20:33.916149Z",
     "iopub.status.idle": "2025-02-26T07:20:33.921375Z",
     "shell.execute_reply": "2025-02-26T07:20:33.920378Z"
    },
    "papermill": {
     "duration": 0.011669,
     "end_time": "2025-02-26T07:20:33.923247",
     "exception": false,
     "start_time": "2025-02-26T07:20:33.911578",
     "status": "completed"
    },
    "tags": []
   },
   "outputs": [],
   "source": [
    "def create_generator(dataframe, directory, batch_size=32, target_size=(128, 128), datagen=None):\n",
    "    if datagen is None:\n",
    "        datagen = ImageDataGenerator(rescale=1./255)\n",
    "\n",
    "    generator = datagen.flow_from_dataframe(\n",
    "        dataframe=dataframe,\n",
    "        directory=directory,\n",
    "        x_col='file_path',  \n",
    "        y_col='encoded_label',\n",
    "        target_size=target_size,\n",
    "        batch_size=batch_size,\n",
    "        class_mode='raw',\n",
    "        validate_filenames=False,  \n",
    "        workers=1,  \n",
    "        use_multiprocessing=False  \n",
    "    )\n",
    "    \n",
    "    return generator"
   ]
  },
  {
   "cell_type": "code",
   "execution_count": 7,
   "id": "ee6fb2eb",
   "metadata": {
    "execution": {
     "iopub.execute_input": "2025-02-26T07:20:33.933035Z",
     "iopub.status.busy": "2025-02-26T07:20:33.932690Z",
     "iopub.status.idle": "2025-02-26T07:20:33.943492Z",
     "shell.execute_reply": "2025-02-26T07:20:33.942610Z"
    },
    "papermill": {
     "duration": 0.01691,
     "end_time": "2025-02-26T07:20:33.944856",
     "exception": false,
     "start_time": "2025-02-26T07:20:33.927946",
     "status": "completed"
    },
    "tags": []
   },
   "outputs": [
    {
     "name": "stdout",
     "output_type": "stream",
     "text": [
      "Found 2288 non-validated image filenames.\n",
      "Found 572 non-validated image filenames.\n"
     ]
    }
   ],
   "source": [
    "train_generator = create_generator(train_data, train_dir)\n",
    "val_generator = create_generator(val_data, train_dir)"
   ]
  },
  {
   "cell_type": "markdown",
   "id": "e77b5600",
   "metadata": {
    "papermill": {
     "duration": 0.003443,
     "end_time": "2025-02-26T07:20:33.952552",
     "exception": false,
     "start_time": "2025-02-26T07:20:33.949109",
     "status": "completed"
    },
    "tags": []
   },
   "source": [
    "## 4. Build the model\n"
   ]
  },
  {
   "cell_type": "code",
   "execution_count": 8,
   "id": "e04e1504",
   "metadata": {
    "execution": {
     "iopub.execute_input": "2025-02-26T07:20:33.961108Z",
     "iopub.status.busy": "2025-02-26T07:20:33.960723Z",
     "iopub.status.idle": "2025-02-26T07:20:33.968826Z",
     "shell.execute_reply": "2025-02-26T07:20:33.967453Z"
    },
    "papermill": {
     "duration": 0.014185,
     "end_time": "2025-02-26T07:20:33.970462",
     "exception": false,
     "start_time": "2025-02-26T07:20:33.956277",
     "status": "completed"
    },
    "tags": []
   },
   "outputs": [],
   "source": [
    "def build_model(input_shape=(128, 128, 3), num_classes=len(label_encoder.classes_)):\n",
    "    \n",
    "    inputs = keras.Input(shape=input_shape)\n",
    "    \n",
    "    x = layers.Conv2D(32, (3, 3), activation='relu')(inputs)\n",
    "    x = layers.BatchNormalization()(x)\n",
    "    x = layers.MaxPooling2D(2, 2)(x)\n",
    "\n",
    "    x = layers.Conv2D(64, (3, 3), activation='relu')(x)\n",
    "    x = layers.BatchNormalization()(x)\n",
    "    x = layers.MaxPooling2D(2, 2)(x)\n",
    "\n",
    "    x = layers.Conv2D(128, (3, 3), activation='relu')(x)\n",
    "    x = layers.BatchNormalization()(x)\n",
    "    x = layers.MaxPooling2D(2, 2)(x)\n",
    "\n",
    "    x = layers.Conv2D(256, (3, 3), activation='relu')(x)\n",
    "    x = layers.BatchNormalization()(x)\n",
    "    x = layers.MaxPooling2D(2, 2)(x)\n",
    "\n",
    "    x = layers.Flatten()(x)\n",
    "    x = layers.Dense(512, activation='relu')(x)\n",
    "    x = layers.Dropout(0.5)(x)\n",
    "    x = layers.Dense(256, activation='relu')(x)\n",
    "    x = layers.Dropout(0.5)(x)\n",
    "    \n",
    "    outputs = layers.Dense(num_classes, activation='softmax')(x)\n",
    "    \n",
    "    model = keras.Model(inputs, outputs)\n",
    "    \n",
    "    model.compile(\n",
    "        optimizer=keras.optimizers.Adam(learning_rate=0.00005),\n",
    "        loss='sparse_categorical_crossentropy',\n",
    "        metrics=['accuracy']\n",
    "    )\n",
    "    return model"
   ]
  },
  {
   "cell_type": "markdown",
   "id": "d5bf328f",
   "metadata": {
    "papermill": {
     "duration": 0.003335,
     "end_time": "2025-02-26T07:20:33.978151",
     "exception": false,
     "start_time": "2025-02-26T07:20:33.974816",
     "status": "completed"
    },
    "tags": []
   },
   "source": [
    "## 5. Train the Model\n"
   ]
  },
  {
   "cell_type": "code",
   "execution_count": 9,
   "id": "539c5b0f",
   "metadata": {
    "execution": {
     "iopub.execute_input": "2025-02-26T07:20:33.986880Z",
     "iopub.status.busy": "2025-02-26T07:20:33.986435Z",
     "iopub.status.idle": "2025-02-26T07:51:55.927088Z",
     "shell.execute_reply": "2025-02-26T07:51:55.926169Z"
    },
    "papermill": {
     "duration": 1881.947062,
     "end_time": "2025-02-26T07:51:55.928832",
     "exception": false,
     "start_time": "2025-02-26T07:20:33.981770",
     "status": "completed"
    },
    "tags": []
   },
   "outputs": [
    {
     "name": "stdout",
     "output_type": "stream",
     "text": [
      "Epoch 1/30\n"
     ]
    },
    {
     "name": "stderr",
     "output_type": "stream",
     "text": [
      "/usr/local/lib/python3.10/dist-packages/keras/src/trainers/data_adapters/py_dataset_adapter.py:122: UserWarning: Your `PyDataset` class should call `super().__init__(**kwargs)` in its constructor. `**kwargs` can include `workers`, `use_multiprocessing`, `max_queue_size`. Do not pass these arguments to `fit()`, as they will be ignored.\n",
      "  self._warn_if_super_not_called()\n"
     ]
    },
    {
     "name": "stdout",
     "output_type": "stream",
     "text": [
      "\u001b[1m72/72\u001b[0m \u001b[32m━━━━━━━━━━━━━━━━━━━━\u001b[0m\u001b[37m\u001b[0m \u001b[1m64s\u001b[0m 813ms/step - accuracy: 0.0791 - loss: 4.8068 - val_accuracy: 0.0192 - val_loss: 3.0633\n",
      "Epoch 2/30\n",
      "\u001b[1m72/72\u001b[0m \u001b[32m━━━━━━━━━━━━━━━━━━━━\u001b[0m\u001b[37m\u001b[0m \u001b[1m57s\u001b[0m 783ms/step - accuracy: 0.1348 - loss: 3.1717 - val_accuracy: 0.0699 - val_loss: 3.1764\n",
      "Epoch 3/30\n",
      "\u001b[1m72/72\u001b[0m \u001b[32m━━━━━━━━━━━━━━━━━━━━\u001b[0m\u001b[37m\u001b[0m \u001b[1m55s\u001b[0m 748ms/step - accuracy: 0.1529 - loss: 2.8996 - val_accuracy: 0.0699 - val_loss: 3.2666\n",
      "Epoch 4/30\n",
      "\u001b[1m72/72\u001b[0m \u001b[32m━━━━━━━━━━━━━━━━━━━━\u001b[0m\u001b[37m\u001b[0m \u001b[1m54s\u001b[0m 733ms/step - accuracy: 0.1826 - loss: 2.7714 - val_accuracy: 0.0997 - val_loss: 3.2445\n",
      "Epoch 5/30\n",
      "\u001b[1m72/72\u001b[0m \u001b[32m━━━━━━━━━━━━━━━━━━━━\u001b[0m\u001b[37m\u001b[0m \u001b[1m56s\u001b[0m 767ms/step - accuracy: 0.2239 - loss: 2.6648 - val_accuracy: 0.1154 - val_loss: 3.0684\n",
      "Epoch 6/30\n",
      "\u001b[1m72/72\u001b[0m \u001b[32m━━━━━━━━━━━━━━━━━━━━\u001b[0m\u001b[37m\u001b[0m \u001b[1m56s\u001b[0m 762ms/step - accuracy: 0.2545 - loss: 2.6061 - val_accuracy: 0.1626 - val_loss: 2.8590\n",
      "Epoch 7/30\n",
      "\u001b[1m72/72\u001b[0m \u001b[32m━━━━━━━━━━━━━━━━━━━━\u001b[0m\u001b[37m\u001b[0m \u001b[1m82s\u001b[0m 759ms/step - accuracy: 0.2473 - loss: 2.5410 - val_accuracy: 0.2185 - val_loss: 2.7021\n",
      "Epoch 8/30\n",
      "\u001b[1m72/72\u001b[0m \u001b[32m━━━━━━━━━━━━━━━━━━━━\u001b[0m\u001b[37m\u001b[0m \u001b[1m56s\u001b[0m 766ms/step - accuracy: 0.2912 - loss: 2.3664 - val_accuracy: 0.2465 - val_loss: 2.5906\n",
      "Epoch 9/30\n",
      "\u001b[1m72/72\u001b[0m \u001b[32m━━━━━━━━━━━━━━━━━━━━\u001b[0m\u001b[37m\u001b[0m \u001b[1m80s\u001b[0m 737ms/step - accuracy: 0.3167 - loss: 2.3094 - val_accuracy: 0.2955 - val_loss: 2.5372\n",
      "Epoch 10/30\n",
      "\u001b[1m72/72\u001b[0m \u001b[32m━━━━━━━━━━━━━━━━━━━━\u001b[0m\u001b[37m\u001b[0m \u001b[1m53s\u001b[0m 718ms/step - accuracy: 0.3208 - loss: 2.2433 - val_accuracy: 0.2850 - val_loss: 2.4700\n",
      "Epoch 11/30\n",
      "\u001b[1m72/72\u001b[0m \u001b[32m━━━━━━━━━━━━━━━━━━━━\u001b[0m\u001b[37m\u001b[0m \u001b[1m83s\u001b[0m 738ms/step - accuracy: 0.3359 - loss: 2.1999 - val_accuracy: 0.2937 - val_loss: 2.4469\n",
      "Epoch 12/30\n",
      "\u001b[1m72/72\u001b[0m \u001b[32m━━━━━━━━━━━━━━━━━━━━\u001b[0m\u001b[37m\u001b[0m \u001b[1m82s\u001b[0m 735ms/step - accuracy: 0.3601 - loss: 2.1302 - val_accuracy: 0.3287 - val_loss: 2.4219\n",
      "Epoch 13/30\n",
      "\u001b[1m72/72\u001b[0m \u001b[32m━━━━━━━━━━━━━━━━━━━━\u001b[0m\u001b[37m\u001b[0m \u001b[1m53s\u001b[0m 729ms/step - accuracy: 0.3718 - loss: 2.0277 - val_accuracy: 0.3164 - val_loss: 2.4010\n",
      "Epoch 14/30\n",
      "\u001b[1m72/72\u001b[0m \u001b[32m━━━━━━━━━━━━━━━━━━━━\u001b[0m\u001b[37m\u001b[0m \u001b[1m83s\u001b[0m 738ms/step - accuracy: 0.4009 - loss: 1.9394 - val_accuracy: 0.3199 - val_loss: 2.3634\n",
      "Epoch 15/30\n",
      "\u001b[1m72/72\u001b[0m \u001b[32m━━━━━━━━━━━━━━━━━━━━\u001b[0m\u001b[37m\u001b[0m \u001b[1m54s\u001b[0m 736ms/step - accuracy: 0.4263 - loss: 1.8859 - val_accuracy: 0.3164 - val_loss: 2.3799\n",
      "Epoch 16/30\n",
      "\u001b[1m72/72\u001b[0m \u001b[32m━━━━━━━━━━━━━━━━━━━━\u001b[0m\u001b[37m\u001b[0m \u001b[1m54s\u001b[0m 736ms/step - accuracy: 0.4410 - loss: 1.8059 - val_accuracy: 0.3182 - val_loss: 2.3462\n",
      "Epoch 17/30\n",
      "\u001b[1m72/72\u001b[0m \u001b[32m━━━━━━━━━━━━━━━━━━━━\u001b[0m\u001b[37m\u001b[0m \u001b[1m54s\u001b[0m 732ms/step - accuracy: 0.4557 - loss: 1.7471 - val_accuracy: 0.3357 - val_loss: 2.3193\n",
      "Epoch 18/30\n",
      "\u001b[1m72/72\u001b[0m \u001b[32m━━━━━━━━━━━━━━━━━━━━\u001b[0m\u001b[37m\u001b[0m \u001b[1m54s\u001b[0m 741ms/step - accuracy: 0.5064 - loss: 1.6276 - val_accuracy: 0.3287 - val_loss: 2.3451\n",
      "Epoch 19/30\n",
      "\u001b[1m72/72\u001b[0m \u001b[32m━━━━━━━━━━━━━━━━━━━━\u001b[0m\u001b[37m\u001b[0m \u001b[1m82s\u001b[0m 741ms/step - accuracy: 0.5351 - loss: 1.5402 - val_accuracy: 0.3427 - val_loss: 2.3251\n",
      "Epoch 20/30\n",
      "\u001b[1m72/72\u001b[0m \u001b[32m━━━━━━━━━━━━━━━━━━━━\u001b[0m\u001b[37m\u001b[0m \u001b[1m56s\u001b[0m 760ms/step - accuracy: 0.5740 - loss: 1.4354 - val_accuracy: 0.3549 - val_loss: 2.3115\n",
      "Epoch 21/30\n",
      "\u001b[1m72/72\u001b[0m \u001b[32m━━━━━━━━━━━━━━━━━━━━\u001b[0m\u001b[37m\u001b[0m \u001b[1m54s\u001b[0m 736ms/step - accuracy: 0.5965 - loss: 1.3462 - val_accuracy: 0.3566 - val_loss: 2.2882\n",
      "Epoch 22/30\n",
      "\u001b[1m72/72\u001b[0m \u001b[32m━━━━━━━━━━━━━━━━━━━━\u001b[0m\u001b[37m\u001b[0m \u001b[1m54s\u001b[0m 741ms/step - accuracy: 0.6063 - loss: 1.2895 - val_accuracy: 0.3479 - val_loss: 2.2775\n",
      "Epoch 23/30\n",
      "\u001b[1m72/72\u001b[0m \u001b[32m━━━━━━━━━━━━━━━━━━━━\u001b[0m\u001b[37m\u001b[0m \u001b[1m84s\u001b[0m 775ms/step - accuracy: 0.6186 - loss: 1.2439 - val_accuracy: 0.3462 - val_loss: 2.2936\n",
      "Epoch 24/30\n",
      "\u001b[1m72/72\u001b[0m \u001b[32m━━━━━━━━━━━━━━━━━━━━\u001b[0m\u001b[37m\u001b[0m \u001b[1m55s\u001b[0m 757ms/step - accuracy: 0.6492 - loss: 1.1619 - val_accuracy: 0.3357 - val_loss: 2.2850\n",
      "Epoch 25/30\n",
      "\u001b[1m72/72\u001b[0m \u001b[32m━━━━━━━━━━━━━━━━━━━━\u001b[0m\u001b[37m\u001b[0m \u001b[1m81s\u001b[0m 750ms/step - accuracy: 0.6366 - loss: 1.1623 - val_accuracy: 0.3636 - val_loss: 2.2655\n",
      "Epoch 26/30\n",
      "\u001b[1m72/72\u001b[0m \u001b[32m━━━━━━━━━━━━━━━━━━━━\u001b[0m\u001b[37m\u001b[0m \u001b[1m54s\u001b[0m 740ms/step - accuracy: 0.6876 - loss: 1.0635 - val_accuracy: 0.3549 - val_loss: 2.3103\n",
      "Epoch 27/30\n",
      "\u001b[1m72/72\u001b[0m \u001b[32m━━━━━━━━━━━━━━━━━━━━\u001b[0m\u001b[37m\u001b[0m \u001b[1m58s\u001b[0m 793ms/step - accuracy: 0.7072 - loss: 0.9760 - val_accuracy: 0.3584 - val_loss: 2.2881\n",
      "Epoch 28/30\n",
      "\u001b[1m72/72\u001b[0m \u001b[32m━━━━━━━━━━━━━━━━━━━━\u001b[0m\u001b[37m\u001b[0m \u001b[1m58s\u001b[0m 789ms/step - accuracy: 0.7335 - loss: 0.9096 - val_accuracy: 0.3636 - val_loss: 2.3119\n",
      "Epoch 29/30\n",
      "\u001b[1m72/72\u001b[0m \u001b[32m━━━━━━━━━━━━━━━━━━━━\u001b[0m\u001b[37m\u001b[0m \u001b[1m58s\u001b[0m 790ms/step - accuracy: 0.7433 - loss: 0.8739 - val_accuracy: 0.3566 - val_loss: 2.3439\n",
      "Epoch 30/30\n",
      "\u001b[1m72/72\u001b[0m \u001b[32m━━━━━━━━━━━━━━━━━━━━\u001b[0m\u001b[37m\u001b[0m \u001b[1m59s\u001b[0m 800ms/step - accuracy: 0.7436 - loss: 0.8760 - val_accuracy: 0.3497 - val_loss: 2.3291\n"
     ]
    }
   ],
   "source": [
    "def train_model(model, train_generator, val_generator, epochs=30):\n",
    "    history = model.fit(\n",
    "        train_generator,\n",
    "        validation_data=val_generator,\n",
    "        epochs=epochs,\n",
    "        callbacks=[keras.callbacks.EarlyStopping(monitor='val_loss', patience=7, restore_best_weights=True)]\n",
    "    )\n",
    "    model.save(\"dermatology_cnn.h5\")\n",
    "    return history\n",
    "\n",
    "# Build / Training the model\n",
    "model = build_model()\n",
    "history = train_model(model, train_generator, val_generator)"
   ]
  },
  {
   "cell_type": "markdown",
   "id": "17b050fb",
   "metadata": {
    "papermill": {
     "duration": 0.099232,
     "end_time": "2025-02-26T07:51:56.123765",
     "exception": false,
     "start_time": "2025-02-26T07:51:56.024533",
     "status": "completed"
    },
    "tags": []
   },
   "source": [
    "## 6. Make Predictions on Test Data"
   ]
  },
  {
   "cell_type": "code",
   "execution_count": 10,
   "id": "16ce07f9",
   "metadata": {
    "execution": {
     "iopub.execute_input": "2025-02-26T07:51:56.320948Z",
     "iopub.status.busy": "2025-02-26T07:51:56.320606Z",
     "iopub.status.idle": "2025-02-26T07:51:56.327055Z",
     "shell.execute_reply": "2025-02-26T07:51:56.325653Z"
    },
    "papermill": {
     "duration": 0.105262,
     "end_time": "2025-02-26T07:51:56.328489",
     "exception": false,
     "start_time": "2025-02-26T07:51:56.223227",
     "status": "completed"
    },
    "tags": []
   },
   "outputs": [
    {
     "name": "stdout",
     "output_type": "stream",
     "text": [
      "                                md5hash  fitzpatrick_scale  \\\n",
      "0  0844ae634f0e6e7ef1f73c2aeecbae0e.jpg                  2   \n",
      "1  3b290d262098f761d719aa07cf36c040.jpg                  4   \n",
      "2  cf561d08ac46d0fda678bff6621005ee.jpg                  2   \n",
      "3  e6371069be05c6b0a95b4b3f1bacc9a5.jpg                  4   \n",
      "4  f76cddb37265f97508f159078dcc7e7c.jpg                  5   \n",
      "\n",
      "   fitzpatrick_centaur   qc  ddi_scale  \n",
      "0                    2  NaN         12  \n",
      "1                    3  NaN         34  \n",
      "2                    3  NaN         12  \n",
      "3                    3  NaN         34  \n",
      "4                    5  NaN         56  \n"
     ]
    }
   ],
   "source": [
    "print(test_df.head())  "
   ]
  },
  {
   "cell_type": "code",
   "execution_count": 11,
   "id": "8bc433c6",
   "metadata": {
    "execution": {
     "iopub.execute_input": "2025-02-26T07:51:56.510176Z",
     "iopub.status.busy": "2025-02-26T07:51:56.509906Z",
     "iopub.status.idle": "2025-02-26T07:51:56.514333Z",
     "shell.execute_reply": "2025-02-26T07:51:56.513417Z"
    },
    "papermill": {
     "duration": 0.095419,
     "end_time": "2025-02-26T07:51:56.515965",
     "exception": false,
     "start_time": "2025-02-26T07:51:56.420546",
     "status": "completed"
    },
    "tags": []
   },
   "outputs": [],
   "source": [
    "def preprocess_test_data(test_df, directory, target_size=(128, 128), batch_size=32):\n",
    "    \n",
    "    test_df = test_df.copy()  \n",
    "    test_df['file_path'] = test_df['md5hash'] + '.jpg'\n",
    "\n",
    "    test_datagen = ImageDataGenerator(rescale=1./255)\n",
    "\n",
    "    return test_datagen.flow_from_dataframe(\n",
    "        dataframe=test_df,\n",
    "        directory=directory,\n",
    "        x_col='file_path',\n",
    "        target_size=target_size,\n",
    "        batch_size=batch_size,\n",
    "        class_mode=None,\n",
    "        shuffle=False\n",
    "    )"
   ]
  },
  {
   "cell_type": "code",
   "execution_count": 12,
   "id": "ff68fed0",
   "metadata": {
    "execution": {
     "iopub.execute_input": "2025-02-26T07:51:56.707614Z",
     "iopub.status.busy": "2025-02-26T07:51:56.707226Z",
     "iopub.status.idle": "2025-02-26T07:51:57.740157Z",
     "shell.execute_reply": "2025-02-26T07:51:57.739012Z"
    },
    "papermill": {
     "duration": 1.130636,
     "end_time": "2025-02-26T07:51:57.741660",
     "exception": false,
     "start_time": "2025-02-26T07:51:56.611024",
     "status": "completed"
    },
    "tags": []
   },
   "outputs": [
    {
     "name": "stdout",
     "output_type": "stream",
     "text": [
      "Found 0 validated image filenames.\n"
     ]
    },
    {
     "name": "stderr",
     "output_type": "stream",
     "text": [
      "/usr/local/lib/python3.10/dist-packages/keras/src/legacy/preprocessing/image.py:920: UserWarning: Found 1227 invalid image filename(s) in x_col=\"file_path\". These filename(s) will be ignored.\n",
      "  warnings.warn(\n"
     ]
    }
   ],
   "source": [
    "test_datagen = ImageDataGenerator(rescale=1./255)\n",
    "test_dir = '/kaggle/input/bttai-ajl-2025/test/test/'\n",
    "test_csv = \"/kaggle/input/bttai-ajl-2025/test.csv\"\n",
    "test_generator = preprocess_test_data(test_df, test_dir)"
   ]
  },
  {
   "cell_type": "markdown",
   "id": "49fbaef3",
   "metadata": {
    "papermill": {
     "duration": 0.095258,
     "end_time": "2025-02-26T07:51:57.935579",
     "exception": false,
     "start_time": "2025-02-26T07:51:57.840321",
     "status": "completed"
    },
    "tags": []
   },
   "source": [
    "## 7. Generate Predictions"
   ]
  },
  {
   "cell_type": "code",
   "execution_count": 13,
   "id": "5d508463",
   "metadata": {
    "execution": {
     "iopub.execute_input": "2025-02-26T07:51:58.176773Z",
     "iopub.status.busy": "2025-02-26T07:51:58.176318Z",
     "iopub.status.idle": "2025-02-26T07:51:58.182023Z",
     "shell.execute_reply": "2025-02-26T07:51:58.180866Z"
    },
    "papermill": {
     "duration": 0.103548,
     "end_time": "2025-02-26T07:51:58.184056",
     "exception": false,
     "start_time": "2025-02-26T07:51:58.080508",
     "status": "completed"
    },
    "tags": []
   },
   "outputs": [],
   "source": [
    "def generate_predictions(model, test_images, file_paths, filename=\"submission.csv\"):\n",
    "    \n",
    "    predictions = model.predict(test_images)\n",
    "    predicted_classes = predictions.argmax(axis=1)\n",
    "\n",
    "    label_encoder = LabelEncoder()\n",
    "    label_encoder.fit(train_df[\"label\"]) \n",
    "\n",
    "    predicted_labels = label_encoder.inverse_transform(predicted_classes)\n",
    "\n",
    "    file_names = [os.path.basename(f) for f in test_images.filenames]  \n",
    "    file_names = [f.replace(\".jpg\", \"\") for f in file_names] \n",
    "    \n",
    "    final_df = pd.DataFrame({\n",
    "        \"md5hash\": file_names,\n",
    "        \"label\": predicted_labels\n",
    "    })\n",
    "\n",
    "    final_df.to_csv(filename, index=False)"
   ]
  },
  {
   "cell_type": "code",
   "execution_count": 14,
   "id": "cd363753",
   "metadata": {
    "execution": {
     "iopub.execute_input": "2025-02-26T07:51:58.379221Z",
     "iopub.status.busy": "2025-02-26T07:51:58.378768Z",
     "iopub.status.idle": "2025-02-26T07:52:15.307102Z",
     "shell.execute_reply": "2025-02-26T07:52:15.306333Z"
    },
    "papermill": {
     "duration": 17.027145,
     "end_time": "2025-02-26T07:52:15.308619",
     "exception": false,
     "start_time": "2025-02-26T07:51:58.281474",
     "status": "completed"
    },
    "tags": []
   },
   "outputs": [
    {
     "name": "stdout",
     "output_type": "stream",
     "text": [
      "Found 1227 validated image filenames.\n"
     ]
    },
    {
     "name": "stderr",
     "output_type": "stream",
     "text": [
      "/usr/local/lib/python3.10/dist-packages/keras/src/trainers/data_adapters/py_dataset_adapter.py:122: UserWarning: Your `PyDataset` class should call `super().__init__(**kwargs)` in its constructor. `**kwargs` can include `workers`, `use_multiprocessing`, `max_queue_size`. Do not pass these arguments to `fit()`, as they will be ignored.\n",
      "  self._warn_if_super_not_called()\n"
     ]
    },
    {
     "name": "stdout",
     "output_type": "stream",
     "text": [
      "\u001b[1m39/39\u001b[0m \u001b[32m━━━━━━━━━━━━━━━━━━━━\u001b[0m\u001b[37m\u001b[0m \u001b[1m13s\u001b[0m 333ms/step\n"
     ]
    }
   ],
   "source": [
    "model = keras.models.load_model(\"dermatology_cnn.h5\")\n",
    "test_df = pd.read_csv(test_csv)\n",
    "test_generator = preprocess_test_data(test_df, test_dir)\n",
    "generate_predictions(model, test_generator, test_df)"
   ]
  }
 ],
 "metadata": {
  "kaggle": {
   "accelerator": "none",
   "dataSources": [
    {
     "databundleVersionId": 10898385,
     "sourceId": 90489,
     "sourceType": "competition"
    }
   ],
   "dockerImageVersionId": 30839,
   "isGpuEnabled": false,
   "isInternetEnabled": false,
   "language": "python",
   "sourceType": "notebook"
  },
  "kernelspec": {
   "display_name": "Python 3",
   "language": "python",
   "name": "python3"
  },
  "language_info": {
   "codemirror_mode": {
    "name": "ipython",
    "version": 3
   },
   "file_extension": ".py",
   "mimetype": "text/x-python",
   "name": "python",
   "nbconvert_exporter": "python",
   "pygments_lexer": "ipython3",
   "version": "3.10.12"
  },
  "papermill": {
   "default_parameters": {},
   "duration": 1921.472039,
   "end_time": "2025-02-26T07:52:18.168606",
   "environment_variables": {},
   "exception": null,
   "input_path": "__notebook__.ipynb",
   "output_path": "__notebook__.ipynb",
   "parameters": {},
   "start_time": "2025-02-26T07:20:16.696567",
   "version": "2.6.0"
  }
 },
 "nbformat": 4,
 "nbformat_minor": 5
}
